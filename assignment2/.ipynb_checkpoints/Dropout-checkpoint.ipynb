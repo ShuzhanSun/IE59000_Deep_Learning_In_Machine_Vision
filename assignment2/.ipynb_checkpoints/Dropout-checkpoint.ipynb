{
 "cells": [
  {
   "cell_type": "markdown",
   "metadata": {
    "tags": [
     "pdf-title"
    ]
   },
   "source": [
    "# Dropout\n",
    "Dropout [1] is a technique for regularizing neural networks by randomly setting some output activations to zero during the forward pass. In this exercise you will implement a dropout layer and modify your fully-connected network to optionally use dropout.\n",
    "\n",
    "[1] [Geoffrey E. Hinton et al, \"Improving neural networks by preventing co-adaptation of feature detectors\", arXiv 2012](https://arxiv.org/abs/1207.0580)"
   ]
  },
  {
   "cell_type": "code",
   "execution_count": 1,
   "metadata": {
    "tags": [
     "pdf-ignore"
    ]
   },
   "outputs": [
    {
     "name": "stdout",
     "output_type": "stream",
     "text": [
      "run the following from the ie590 directory and try again:\n",
      "python setup.py build_ext --inplace\n",
      "You may also need to restart your iPython kernel\n"
     ]
    }
   ],
   "source": [
    "# As usual, a bit of setup\n",
    "from __future__ import print_function\n",
    "import time\n",
    "import numpy as np\n",
    "import matplotlib.pyplot as plt\n",
    "from ie590.classifiers.fc_net import *\n",
    "from ie590.data_utils import get_CIFAR10_data\n",
    "from ie590.gradient_check import eval_numerical_gradient, eval_numerical_gradient_array\n",
    "from ie590.solver import Solver\n",
    "\n",
    "%matplotlib inline\n",
    "plt.rcParams['figure.figsize'] = (10.0, 8.0) # set default size of plots\n",
    "plt.rcParams['image.interpolation'] = 'nearest'\n",
    "plt.rcParams['image.cmap'] = 'gray'\n",
    "\n",
    "# for auto-reloading external modules\n",
    "# see http://stackoverflow.com/questions/1907993/autoreload-of-modules-in-ipython\n",
    "%load_ext autoreload\n",
    "%autoreload 2\n",
    "\n",
    "def rel_error(x, y):\n",
    "  \"\"\" returns relative error \"\"\"\n",
    "  return np.max(np.abs(x - y) / (np.maximum(1e-8, np.abs(x) + np.abs(y))))"
   ]
  },
  {
   "cell_type": "code",
   "execution_count": 2,
   "metadata": {
    "tags": [
     "pdf-ignore"
    ]
   },
   "outputs": [
    {
     "name": "stdout",
     "output_type": "stream",
     "text": [
      "X_train:  (49000, 3, 32, 32)\n",
      "y_train:  (49000,)\n",
      "X_val:  (1000, 3, 32, 32)\n",
      "y_val:  (1000,)\n",
      "X_test:  (1000, 3, 32, 32)\n",
      "y_test:  (1000,)\n"
     ]
    }
   ],
   "source": [
    "# Load the (preprocessed) CIFAR10 data.\n",
    "\n",
    "data = get_CIFAR10_data()\n",
    "for k, v in data.items():\n",
    "  print('%s: ' % k, v.shape)"
   ]
  },
  {
   "cell_type": "markdown",
   "metadata": {},
   "source": [
    "# Dropout forward pass\n",
    "In the file `ie590/layers.py`, implement the forward pass for dropout. Since dropout behaves differently during training and testing, make sure to implement the operation for both modes.\n",
    "\n",
    "Once you have done so, run the cell below to test your implementation."
   ]
  },
  {
   "cell_type": "code",
   "execution_count": 3,
   "metadata": {},
   "outputs": [
    {
     "name": "stdout",
     "output_type": "stream",
     "text": [
      "Running tests with p =  0.25\n",
      "Mean of input:  10.000073983317677\n",
      "Mean of train-time output:  23.942958248076366\n",
      "Mean of test-time output:  10.000073983317677\n",
      "Fraction of train-time output set to zero:  0.401236\n",
      "Fraction of test-time output set to zero:  0.0\n",
      "\n",
      "Running tests with p =  0.4\n",
      "Mean of input:  10.000073983317677\n",
      "Mean of train-time output:  16.39074194873602\n",
      "Mean of test-time output:  10.000073983317677\n",
      "Fraction of train-time output set to zero:  0.344464\n",
      "Fraction of test-time output set to zero:  0.0\n",
      "\n",
      "Running tests with p =  0.7\n",
      "Mean of input:  10.000073983317677\n",
      "Mean of train-time output:  10.830890239522626\n",
      "Mean of test-time output:  10.000073983317677\n",
      "Fraction of train-time output set to zero:  0.24172\n",
      "Fraction of test-time output set to zero:  0.0\n",
      "\n"
     ]
    }
   ],
   "source": [
    "np.random.seed(220)\n",
    "x = np.random.randn(500, 500) + 10\n",
    "\n",
    "for p in [0.25, 0.4, 0.7]:\n",
    "  out, _ = dropout_forward(x, {'mode': 'train', 'p': p})\n",
    "  out_test, _ = dropout_forward(x, {'mode': 'test', 'p': p})\n",
    "\n",
    "  print('Running tests with p = ', p)\n",
    "  print('Mean of input: ', x.mean())\n",
    "  print('Mean of train-time output: ', out.mean())\n",
    "  print('Mean of test-time output: ', out_test.mean())\n",
    "  print('Fraction of train-time output set to zero: ', (out == 0).mean())\n",
    "  print('Fraction of test-time output set to zero: ', (out_test == 0).mean())\n",
    "  print()"
   ]
  },
  {
   "cell_type": "markdown",
   "metadata": {},
   "source": [
    "# Dropout backward pass\n",
    "In the file `ie590/layers.py`, implement the backward pass for dropout. After doing so, run the following cell to numerically gradient-check your implementation."
   ]
  },
  {
   "cell_type": "code",
   "execution_count": 4,
   "metadata": {},
   "outputs": [
    {
     "name": "stdout",
     "output_type": "stream",
     "text": [
      "dx relative error:  5.445606263132224e-11\n"
     ]
    }
   ],
   "source": [
    "np.random.seed(220)\n",
    "x = np.random.randn(10, 10) + 10\n",
    "dout = np.random.randn(*x.shape)\n",
    "\n",
    "dropout_param = {'mode': 'train', 'p': 0.2, 'seed': 123}\n",
    "out, cache = dropout_forward(x, dropout_param)\n",
    "dx = dropout_backward(dout, cache)\n",
    "dx_num = eval_numerical_gradient_array(lambda xx: dropout_forward(xx, dropout_param)[0], x, dout)\n",
    "\n",
    "# Error should be around e-10 or less\n",
    "print('dx relative error: ', rel_error(dx, dx_num))"
   ]
  },
  {
   "cell_type": "markdown",
   "metadata": {
    "tags": [
     "pdf-inline"
    ]
   },
   "source": [
    "## Inline Question 1:\n",
    "What happens if we do not divide the values being passed through inverse dropout by `p` in the dropout layer? Why does that happen?\n",
    "\n",
    "## Answer:\n",
    "Missing /p in inversed dropout is equivalent to setting dropout probability p at training stage while dropout probability 1 at test stage. A direct result would be the prediction value at test is a wrong value y instead of correct value p*y. This means we set randomness at training but ignore the randomness when use the trained network to predict. The reason is that the /p is moved from test stage to simplify original vanilla dropout.\n"
   ]
  },
  {
   "cell_type": "markdown",
   "metadata": {},
   "source": [
    "# Fully-connected nets with Dropout\n",
    "In the file `ie590/classifiers/fc_net.py`, modify your implementation to use dropout. Specifically, if the constructor of the network receives a value that is not 1 for the `dropout` parameter, then the net should add a dropout layer immediately after every ReLU nonlinearity. After doing so, run the following to numerically gradient-check your implementation."
   ]
  },
  {
   "cell_type": "code",
   "execution_count": 5,
   "metadata": {},
   "outputs": [
    {
     "name": "stdout",
     "output_type": "stream",
     "text": [
      "Running check with dropout =  1\n",
      "Initial loss:  2.3109271789130945\n",
      "W1 relative error: 1.84e-05\n",
      "W2 relative error: 1.59e-03\n",
      "W3 relative error: 1.72e-06\n",
      "b1 relative error: 4.36e-07\n",
      "b2 relative error: 1.66e-07\n",
      "b3 relative error: 8.72e-11\n",
      "\n",
      "Running check with dropout =  0.75\n",
      "Initial loss:  2.297789151503058\n",
      "W1 relative error: 2.80e-03\n",
      "W2 relative error: 4.47e-04\n",
      "W3 relative error: 2.14e-06\n",
      "b1 relative error: 2.60e-03\n",
      "b2 relative error: 5.67e-08\n",
      "b3 relative error: 1.50e-10\n",
      "\n",
      "Running check with dropout =  0.5\n",
      "Initial loss:  2.306176853993195\n",
      "W1 relative error: 1.92e-06\n",
      "W2 relative error: 9.62e-04\n",
      "W3 relative error: 2.35e-06\n",
      "b1 relative error: 2.10e-07\n",
      "b2 relative error: 1.09e-07\n",
      "b3 relative error: 9.55e-11\n",
      "\n"
     ]
    }
   ],
   "source": [
    "np.random.seed(220)\n",
    "N, D, H1, H2, C = 2, 15, 20, 30, 10\n",
    "X = np.random.randn(N, D)\n",
    "y = np.random.randint(C, size=(N,))\n",
    "\n",
    "for dropout in [1, 0.75, 0.5]:\n",
    "  print('Running check with dropout = ', dropout)\n",
    "  model = FullyConnectedNet([H1, H2], input_dim=D, num_classes=C,\n",
    "                            weight_scale=5e-2, dtype=np.float64,\n",
    "                            dropout=dropout, seed=123)\n",
    "\n",
    "  loss, grads = model.loss(X, y)\n",
    "  print('Initial loss: ', loss)\n",
    "  \n",
    "  # Relative errors should be around e-3 or less; Note that it's fine\n",
    " \n",
    "  for name in sorted(grads):\n",
    "    f = lambda _: model.loss(X, y)[0]\n",
    "    grad_num = eval_numerical_gradient(f, model.params[name], verbose=False, h=1e-5)\n",
    "    print('%s relative error: %.2e' % (name, rel_error(grad_num, grads[name])))\n",
    "  print()"
   ]
  },
  {
   "cell_type": "markdown",
   "metadata": {},
   "source": [
    "# Regularization experiment\n",
    "As an experiment, we will train a pair of two-layer networks on 500 training examples: one will use no dropout, and one will use a keep probability of 0.3. We will then visualize the training and validation accuracies of the two networks over time."
   ]
  },
  {
   "cell_type": "code",
   "execution_count": 6,
   "metadata": {
    "scrolled": false
   },
   "outputs": [
    {
     "name": "stdout",
     "output_type": "stream",
     "text": [
      "1\n",
      "(Iteration 1 / 125) loss: 8.304420\n",
      "(Epoch 0 / 25) train acc: 0.192000; val_acc: 0.195000\n",
      "(Epoch 1 / 25) train acc: 0.388000; val_acc: 0.228000\n",
      "(Epoch 2 / 25) train acc: 0.480000; val_acc: 0.249000\n",
      "(Epoch 3 / 25) train acc: 0.584000; val_acc: 0.273000\n",
      "(Epoch 4 / 25) train acc: 0.716000; val_acc: 0.285000\n",
      "(Epoch 5 / 25) train acc: 0.796000; val_acc: 0.297000\n",
      "(Epoch 6 / 25) train acc: 0.834000; val_acc: 0.265000\n",
      "(Epoch 7 / 25) train acc: 0.818000; val_acc: 0.262000\n",
      "(Epoch 8 / 25) train acc: 0.868000; val_acc: 0.259000\n",
      "(Epoch 9 / 25) train acc: 0.914000; val_acc: 0.268000\n",
      "(Epoch 10 / 25) train acc: 0.950000; val_acc: 0.251000\n",
      "(Epoch 11 / 25) train acc: 0.958000; val_acc: 0.259000\n",
      "(Epoch 12 / 25) train acc: 0.940000; val_acc: 0.281000\n",
      "(Epoch 13 / 25) train acc: 0.968000; val_acc: 0.283000\n",
      "(Epoch 14 / 25) train acc: 0.928000; val_acc: 0.280000\n",
      "(Epoch 15 / 25) train acc: 0.944000; val_acc: 0.262000\n",
      "(Epoch 16 / 25) train acc: 0.952000; val_acc: 0.281000\n",
      "(Epoch 17 / 25) train acc: 0.938000; val_acc: 0.276000\n",
      "(Epoch 18 / 25) train acc: 0.950000; val_acc: 0.289000\n",
      "(Epoch 19 / 25) train acc: 0.958000; val_acc: 0.276000\n",
      "(Epoch 20 / 25) train acc: 0.964000; val_acc: 0.269000\n",
      "(Iteration 101 / 125) loss: 0.213629\n",
      "(Epoch 21 / 25) train acc: 0.990000; val_acc: 0.265000\n",
      "(Epoch 22 / 25) train acc: 0.978000; val_acc: 0.278000\n",
      "(Epoch 23 / 25) train acc: 0.984000; val_acc: 0.287000\n",
      "(Epoch 24 / 25) train acc: 0.986000; val_acc: 0.290000\n",
      "(Epoch 25 / 25) train acc: 0.980000; val_acc: 0.292000\n",
      "\n",
      "0.3\n",
      "(Iteration 1 / 125) loss: 22.585506\n",
      "(Epoch 0 / 25) train acc: 0.214000; val_acc: 0.157000\n",
      "(Epoch 1 / 25) train acc: 0.394000; val_acc: 0.240000\n",
      "(Epoch 2 / 25) train acc: 0.456000; val_acc: 0.297000\n",
      "(Epoch 3 / 25) train acc: 0.542000; val_acc: 0.243000\n",
      "(Epoch 4 / 25) train acc: 0.626000; val_acc: 0.267000\n",
      "(Epoch 5 / 25) train acc: 0.688000; val_acc: 0.268000\n",
      "(Epoch 6 / 25) train acc: 0.722000; val_acc: 0.283000\n",
      "(Epoch 7 / 25) train acc: 0.778000; val_acc: 0.288000\n",
      "(Epoch 8 / 25) train acc: 0.806000; val_acc: 0.286000\n",
      "(Epoch 9 / 25) train acc: 0.772000; val_acc: 0.269000\n",
      "(Epoch 10 / 25) train acc: 0.882000; val_acc: 0.288000\n",
      "(Epoch 11 / 25) train acc: 0.888000; val_acc: 0.314000\n",
      "(Epoch 12 / 25) train acc: 0.914000; val_acc: 0.332000\n",
      "(Epoch 13 / 25) train acc: 0.952000; val_acc: 0.331000\n",
      "(Epoch 14 / 25) train acc: 0.948000; val_acc: 0.287000\n",
      "(Epoch 15 / 25) train acc: 0.948000; val_acc: 0.310000\n",
      "(Epoch 16 / 25) train acc: 0.972000; val_acc: 0.316000\n",
      "(Epoch 17 / 25) train acc: 0.954000; val_acc: 0.329000\n",
      "(Epoch 18 / 25) train acc: 0.978000; val_acc: 0.322000\n",
      "(Epoch 19 / 25) train acc: 0.982000; val_acc: 0.337000\n",
      "(Epoch 20 / 25) train acc: 0.958000; val_acc: 0.313000\n",
      "(Iteration 101 / 125) loss: 1.010401\n",
      "(Epoch 21 / 25) train acc: 0.970000; val_acc: 0.334000\n",
      "(Epoch 22 / 25) train acc: 0.974000; val_acc: 0.289000\n",
      "(Epoch 23 / 25) train acc: 0.980000; val_acc: 0.301000\n",
      "(Epoch 24 / 25) train acc: 0.968000; val_acc: 0.304000\n",
      "(Epoch 25 / 25) train acc: 0.946000; val_acc: 0.309000\n",
      "\n"
     ]
    }
   ],
   "source": [
    "# Train two identical nets, one with dropout and one without\n",
    "np.random.seed(220)\n",
    "num_train = 500\n",
    "small_data = {\n",
    "  'X_train': data['X_train'][:num_train],\n",
    "  'y_train': data['y_train'][:num_train],\n",
    "  'X_val': data['X_val'],\n",
    "  'y_val': data['y_val'],\n",
    "}\n",
    "\n",
    "solvers = {}\n",
    "dropout_choices = [1, 0.3]\n",
    "for dropout in dropout_choices:\n",
    "  model = FullyConnectedNet([500], dropout=dropout)\n",
    "  print(dropout)\n",
    "\n",
    "  solver = Solver(model, small_data,\n",
    "                  num_epochs=25, batch_size=100,\n",
    "                  update_rule='adam',\n",
    "                  optim_config={\n",
    "                    'learning_rate': 5e-4,\n",
    "                  },\n",
    "                  verbose=True, print_every=100)\n",
    "  solver.train()\n",
    "  solvers[dropout] = solver\n",
    "  print()"
   ]
  },
  {
   "cell_type": "code",
   "execution_count": 7,
   "metadata": {},
   "outputs": [
    {
     "data": {
      "image/png": "[encoded data removed]",
      "text/plain": [
       "<Figure size 1080x1080 with 2 Axes>"
      ]
     },
     "metadata": {
      "needs_background": "light"
     },
     "output_type": "display_data"
    }
   ],
   "source": [
    "# Plot train and validation accuracies of the two models\n",
    "\n",
    "train_accs = []\n",
    "val_accs = []\n",
    "for dropout in dropout_choices:\n",
    "  solver = solvers[dropout]\n",
    "  train_accs.append(solver.train_acc_history[-1])\n",
    "  val_accs.append(solver.val_acc_history[-1])\n",
    "\n",
    "plt.subplot(3, 1, 1)\n",
    "for dropout in dropout_choices:\n",
    "  plt.plot(solvers[dropout].train_acc_history, 'o', label='%.2f dropout' % dropout)\n",
    "plt.title('Train accuracy')\n",
    "plt.xlabel('Epoch')\n",
    "plt.ylabel('Accuracy')\n",
    "plt.legend(ncol=2, loc='lower right')\n",
    "  \n",
    "plt.subplot(3, 1, 2)\n",
    "for dropout in dropout_choices:\n",
    "  plt.plot(solvers[dropout].val_acc_history, 'o', label='%.2f dropout' % dropout)\n",
    "plt.title('Val accuracy')\n",
    "plt.xlabel('Epoch')\n",
    "plt.ylabel('Accuracy')\n",
    "plt.legend(ncol=2, loc='lower right')\n",
    "\n",
    "plt.gcf().set_size_inches(15, 15)\n",
    "plt.show()"
   ]
  },
  {
   "cell_type": "markdown",
   "metadata": {
    "tags": [
     "pdf-inline"
    ]
   },
   "source": [
    "## Inline Question 2:\n",
    "Compare the validation and training accuracies with and without dropout -- what do your results suggest about dropout as a regularizer?\n",
    "\n",
    "## Answer:\n",
    "From training accuracy, dropout can preserve the training accuracy though it may converge slower. From validation accuracy, dropout can increase the validation accuracy.\n",
    "\n",
    "The results suggest that dropout as a regularizer can help generalizing the network to unknown dataset and can reduce the overfitting.\n"
   ]
  },
  {
   "cell_type": "markdown",
   "metadata": {
    "tags": [
     "pdf-inline"
    ]
   },
   "source": [
    "## Inline Question 3:\n",
    "Should we use dropout in the input layer? Why / Why not?\n",
    "\n",
    "## Answer:\n",
    "[No, we should not use dropout in input layer. Becaue it will directly reduce the true data we can use, which is similar to using a smaller dataset thus is bad. The dropout layer is to reduce redundant information that we *leared* in the betwork, so it should apply to learned patterns inside the network, not at the beginning when nothing has been learned yet.]\n"
   ]
  },
  {
   "cell_type": "markdown",
   "metadata": {},
   "source": [
    "## Inline Question 4:\n",
    "Do the weights of the network change when trained using dropout as compared to not using dropout? If they change, do they increase or decrease as compared to not using dropout?\n",
    "\n",
    "## Answer:\n",
    "Yes, the weightes of the network will change. The weights will increase as compared to not using dropout. Because only part of the weights will be counted using dropout, to catch the output value, the weights will tend to increse.\n"
   ]
  },
  {
   "cell_type": "markdown",
   "metadata": {},
   "source": [
    "## Inline Question 5:\n",
    "Should we use dropout while testing? Why/Why not?\n",
    "\n",
    "## Answer:\n",
    "No, we should not use dropout at test. Because the dropout is like training a large ensemble of models that share parameters. All the models in the ensemble have good generality that can predict better at test stage. To do that, we should averge out the predictions of all models in the ensemble. Using dropout while testing is like choosign one model from the ensemble, thus can degrade the accuracy a lot."
   ]
  },
  {
   "cell_type": "code",
   "execution_count": null,
   "metadata": {},
   "outputs": [],
   "source": []
  }
 ],
 "metadata": {
  "kernelspec": {
   "display_name": "Python 3",
   "language": "python",
   "name": "python3"
  },
  "language_info": {
   "codemirror_mode": {
    "name": "ipython",
    "version": 3
   },
   "file_extension": ".py",
   "mimetype": "text/x-python",
   "name": "python",
   "nbconvert_exporter": "python",
   "pygments_lexer": "ipython3",
   "version": "3.7.4"
  }
 },
 "nbformat": 4,
 "nbformat_minor": 2
}
