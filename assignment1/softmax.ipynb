{
 "cells": [
  {
   "cell_type": "markdown",
   "metadata": {},
   "source": [
    "# Softmax exercise\n",
    "\n",
    "*Complete and hand in the completed notebook (including the output) with your assignment submission. You will be submitting the homework as a zip file including all the parts on the Blackboard.*\n",
    "\n",
    "This exercise is similar to the SVM exercise. In this part, you will:\n",
    "\n",
    "- Implement a partially-vectorized and fully-vectorized **loss function** for the Softmax classifier.\n",
    "- Implement the partially-vectorized and fully-vectorized expression for its **analytic gradient**.\n",
    "- **Compare your implementation** with numerical gradient.\n",
    "- Use a cross validation to **tune the learning rate and regularization** strength.\n",
    "- **Optimize** the loss function with stochastic gradient descent (**SGD**).\n",
    "- **Visualize** the final learned weights.\n"
   ]
  },
  {
   "cell_type": "code",
   "execution_count": 1,
   "metadata": {},
   "outputs": [],
   "source": [
    "## Default modules\n",
    "from __future__ import print_function\n",
    "import random\n",
    "import numpy as np\n",
    "import matplotlib.pyplot as plt\n",
    "\n",
    "## Custom modules\n",
    "from ie590.data_utils import load_CIFAR10\n",
    "\n",
    "## Ipython setup\n",
    "%matplotlib inline\n",
    "plt.rcParams['figure.figsize'] = (10.0, 8.0) # set default size of plots\n",
    "plt.rcParams['image.interpolation'] = 'nearest'\n",
    "plt.rcParams['image.cmap'] = 'gray'\n",
    "\n",
    "# for auto-reloading extenrnal modules\n",
    "# see http://stackoverflow.com/questions/1907993/autoreload-of-modules-in-ipython\n",
    "%load_ext autoreload\n",
    "%autoreload 2"
   ]
  },
  {
   "cell_type": "code",
   "execution_count": 2,
   "metadata": {},
   "outputs": [
    {
     "name": "stdout",
     "output_type": "stream",
     "text": [
      "Train data shape:  (49000, 3073)\n",
      "Train labels shape:  (49000,)\n",
      "Validation data shape:  (1000, 3073)\n",
      "Validation labels shape:  (1000,)\n",
      "Test data shape:  (1000, 3073)\n",
      "Test labels shape:  (1000,)\n",
      "dev data shape:  (500, 3073)\n",
      "dev labels shape:  (500,)\n"
     ]
    }
   ],
   "source": [
    "## Loading CIFAR 10 data\n",
    "def get_CIFAR10_data(num_training=49000, num_validation=1000, num_test=1000, num_dev=500):\n",
    "    \"\"\"\n",
    "    Load the CIFAR-10 dataset from disk and perform preprocessing to prepare\n",
    "    it for the linear classifier. These are the same steps as we used for the\n",
    "    SVM, but condensed to a single function.  \n",
    "    \"\"\"\n",
    "    # Load the raw CIFAR-10 data\n",
    "    cifar10_dir = 'ie590/datasets/cifar-10-batches-py'\n",
    "    \n",
    "    X_train, y_train, X_test, y_test = load_CIFAR10(cifar10_dir)\n",
    "    \n",
    "    # subsample the data\n",
    "    mask = list(range(num_training, num_training + num_validation))\n",
    "    X_val = X_train[mask]\n",
    "    y_val = y_train[mask]\n",
    "    mask = list(range(num_training))\n",
    "    X_train = X_train[mask]\n",
    "    y_train = y_train[mask]\n",
    "    mask = list(range(num_test))\n",
    "    X_test = X_test[mask]\n",
    "    y_test = y_test[mask]\n",
    "    mask = np.random.choice(num_training, num_dev, replace=False)\n",
    "    X_dev = X_train[mask]\n",
    "    y_dev = y_train[mask]\n",
    "    \n",
    "    # Preprocessing: reshape the image data into rows\n",
    "    X_train = np.reshape(X_train, (X_train.shape[0], -1))\n",
    "    X_val = np.reshape(X_val, (X_val.shape[0], -1))\n",
    "    X_test = np.reshape(X_test, (X_test.shape[0], -1))\n",
    "    X_dev = np.reshape(X_dev, (X_dev.shape[0], -1))\n",
    "    \n",
    "    # Normalize the data: subtract the mean image\n",
    "    mean_image = np.mean(X_train, axis = 0)\n",
    "    X_train -= mean_image\n",
    "    X_val -= mean_image\n",
    "    X_test -= mean_image\n",
    "    X_dev -= mean_image\n",
    "    \n",
    "    # add bias dimension and transform into columns\n",
    "    X_train = np.hstack([X_train, np.ones((X_train.shape[0], 1))])\n",
    "    X_val = np.hstack([X_val, np.ones((X_val.shape[0], 1))])\n",
    "    X_test = np.hstack([X_test, np.ones((X_test.shape[0], 1))])\n",
    "    X_dev = np.hstack([X_dev, np.ones((X_dev.shape[0], 1))])\n",
    "    \n",
    "    return X_train, y_train, X_val, y_val, X_test, y_test, X_dev, y_dev\n",
    "\n",
    "\n",
    "# Cleaning up variables to prevent loading data multiple times (which may cause memory issue)\n",
    "try:\n",
    "   del X_train, y_train, X_test, y_test\n",
    "   # del X_test, y_test\n",
    "   print('Clear previously loaded data.')\n",
    "except:\n",
    "   pass\n",
    "\n",
    "# Invoke the above function to get our data.\n",
    "X_train, y_train, X_val, y_val, X_test, y_test, X_dev, y_dev = get_CIFAR10_data()\n",
    "print('Train data shape: ', X_train.shape)\n",
    "print('Train labels shape: ', y_train.shape)\n",
    "print('Validation data shape: ', X_val.shape)\n",
    "print('Validation labels shape: ', y_val.shape)\n",
    "print('Test data shape: ', X_test.shape)\n",
    "print('Test labels shape: ', y_test.shape)\n",
    "print('dev data shape: ', X_dev.shape)\n",
    "print('dev labels shape: ', y_dev.shape)"
   ]
  },
  {
   "cell_type": "markdown",
   "metadata": {},
   "source": [
    "## Softmax Classifier\n",
    "\n",
    "Your code for this section will all be written inside **cs231n/classifiers/softmax.py**. \n"
   ]
  },
  {
   "cell_type": "code",
   "execution_count": 3,
   "metadata": {},
   "outputs": [
    {
     "name": "stdout",
     "output_type": "stream",
     "text": [
      "loss: 2.422585\n",
      "sanity check: 2.302585\n"
     ]
    }
   ],
   "source": [
    "'''\n",
    "First implement the naive softmax loss function with nested loops. \n",
    "Open the file ie590/classifiers/softmax.py and implement the \n",
    "softmax_loss_naive function. \n",
    "'''\n",
    "\n",
    "from ie590.classifiers.softmax import softmax_loss_naive\n",
    "import time\n",
    "\n",
    "# Generate a random softmax weight matrix and use it to compute the loss.\n",
    "W = np.random.randn(3073, 10) * 0.0001\n",
    "loss, grad = softmax_loss_naive(W, X_dev, y_dev, 0.0)\n",
    "\n",
    "# As a rough sanity check, our loss should be something close to -log(0.1).\n",
    "print('loss: %f' % loss)\n",
    "print('sanity check: %f' % (-np.log(0.1)))"
   ]
  },
  {
   "cell_type": "markdown",
   "metadata": {},
   "source": [
    "## Inline Question 1:\n",
    "\n",
    "**Why do we expect our loss to be close to -log(0.1)? Explain briefly.**\n",
    "\n",
    "$\\color{blue}{\\textit Your Answer:}$ *Because we initialize W with small numbers resulting in $s=Wx \\sim 0$, then each $e^{s_j} \\sim 1$ for every class $j$. => $L_i \\sim -log(1/10)$, => total loss $L = \\frac{\\sum{L_i}}{N} \\sim L_i \\sim -log(0.1)$.*\n"
   ]
  },
  {
   "cell_type": "markdown",
   "metadata": {},
   "source": [
    "## Inline Question 2:\n",
    "\n",
    "**What would be the value of initial loss as number of classes becomes extremely large (inifinity)?**\n",
    "\n",
    "**Your answer:** When there are inifinite classes, the initial loss $-log(1/num\\_class)$ will be infinity as $-log(1/\\infty) = \\infty$\n"
   ]
  },
  {
   "cell_type": "code",
   "execution_count": 4,
   "metadata": {},
   "outputs": [
    {
     "name": "stdout",
     "output_type": "stream",
     "text": [
      "numerical: 2.941233 analytic: 2.941233, relative error: 1.198814e-08\n",
      "numerical: 2.105831 analytic: 2.105831, relative error: 2.515393e-08\n",
      "numerical: 1.150306 analytic: 1.150306, relative error: 3.072279e-08\n",
      "numerical: 0.037315 analytic: 0.037315, relative error: 3.110840e-07\n",
      "numerical: -2.084582 analytic: -2.084582, relative error: 1.701550e-08\n",
      "numerical: -0.165114 analytic: -0.165114, relative error: 1.045032e-07\n",
      "numerical: 1.186945 analytic: 1.186945, relative error: 2.239306e-08\n",
      "numerical: 4.630787 analytic: 4.630787, relative error: 1.792448e-08\n",
      "numerical: 0.638071 analytic: 0.638071, relative error: 3.518170e-08\n",
      "numerical: 0.601375 analytic: 0.601375, relative error: 4.155559e-08\n",
      "numerical: 1.950394 analytic: 1.950394, relative error: 3.025558e-08\n",
      "numerical: -3.551905 analytic: -3.551905, relative error: 6.656064e-09\n",
      "numerical: -2.643458 analytic: -2.643458, relative error: 1.004101e-08\n",
      "numerical: 3.216704 analytic: 3.216704, relative error: 1.455623e-08\n",
      "numerical: 0.308688 analytic: 0.308688, relative error: 9.446612e-08\n",
      "numerical: -2.073978 analytic: -2.073978, relative error: 3.175954e-09\n",
      "numerical: -1.454531 analytic: -1.454531, relative error: 1.379258e-08\n",
      "numerical: 2.612760 analytic: 2.612760, relative error: 1.811780e-08\n",
      "numerical: 2.701114 analytic: 2.701114, relative error: 9.921668e-09\n",
      "numerical: -1.423136 analytic: -1.423136, relative error: 6.897195e-10\n"
     ]
    }
   ],
   "source": [
    "# Complete the implementation of softmax_loss_naive and implement a (naive)\n",
    "# version of the gradient that uses nested loops.\n",
    "loss, grad = softmax_loss_naive(W, X_dev, y_dev, 0.0)\n",
    "\n",
    "# As we did for the SVM, use numeric gradient checking as a debugging tool.\n",
    "# The numeric gradient should be close to the analytic gradient.\n",
    "from ie590.gradient_check import grad_check_sparse\n",
    "f = lambda w: softmax_loss_naive(w, X_dev, y_dev, 0.0)[0]\n",
    "grad_numerical = grad_check_sparse(f, W, grad, 10)\n",
    "\n",
    "# similar to SVM case, do another gradient check with regularization\n",
    "loss, grad = softmax_loss_naive(W, X_dev, y_dev, 5e1)\n",
    "f = lambda w: softmax_loss_naive(w, X_dev, y_dev, 5e1)[0]\n",
    "grad_numerical = grad_check_sparse(f, W, grad, 10)"
   ]
  },
  {
   "cell_type": "code",
   "execution_count": 5,
   "metadata": {},
   "outputs": [
    {
     "name": "stdout",
     "output_type": "stream",
     "text": [
      "naive loss: 2.422585e+00 computed in 0.081546s\n",
      "partially vectorized loss: 2.422585e+00 computed in 0.099844s\n",
      "Loss difference: 0.000000\n",
      "Gradient difference: 0.000000\n"
     ]
    }
   ],
   "source": [
    "# Now that we have a naive implementation of the softmax loss function and its gradient,\n",
    "# implement a partially vectorized version in softmax_loss_partially_vectorized.\n",
    "# The two versions should compute the same results, but the partially vectorized version should be\n",
    "# relatively faster.\n",
    "tic = time.time()\n",
    "loss_naive, grad_naive = softmax_loss_naive(W, X_dev, y_dev, 0.000005)\n",
    "toc = time.time()\n",
    "print('naive loss: %e computed in %fs' % (loss_naive, toc - tic))\n",
    "\n",
    "from ie590.classifiers.softmax import softmax_loss_partially_vectorized\n",
    "tic = time.time()\n",
    "loss_partially_vectorized, grad_partially_vectorized = softmax_loss_partially_vectorized(W, X_dev, y_dev, 0.000005)\n",
    "toc = time.time()\n",
    "print('partially vectorized loss: %e computed in %fs' % (loss_partially_vectorized, toc - tic))\n",
    "\n",
    "# As we did for the SVM, we use the Frobenius norm to compare the two versions\n",
    "# of the gradient.\n",
    "grad_difference = np.linalg.norm(grad_naive - grad_partially_vectorized, ord='fro')\n",
    "print('Loss difference: %f' % np.abs(loss_naive - loss_partially_vectorized))\n",
    "print('Gradient difference: %f' % grad_difference)"
   ]
  },
  {
   "cell_type": "code",
   "execution_count": 6,
   "metadata": {},
   "outputs": [
    {
     "name": "stdout",
     "output_type": "stream",
     "text": [
      "naive loss: 2.422585e+00 computed in 0.080823s\n",
      "vectorized loss: 2.422585e+00 computed in 0.007833s\n",
      "Loss difference: 0.000000\n",
      "Gradient difference: 0.000000\n"
     ]
    }
   ],
   "source": [
    "# Now you will implement a fully vectorized version in softmax_loss_vectorized.\n",
    "# The two versions should compute the same results, but the fully vectorized version should be\n",
    "# much faster.\n",
    "tic = time.time()\n",
    "loss_naive, grad_naive = softmax_loss_naive(W, X_dev, y_dev, 0.000005)\n",
    "toc = time.time()\n",
    "print('naive loss: %e computed in %fs' % (loss_naive, toc - tic))\n",
    "\n",
    "from ie590.classifiers.softmax import softmax_loss_vectorized\n",
    "tic = time.time()\n",
    "loss_vectorized, grad_vectorized = softmax_loss_vectorized(W, X_dev, y_dev, 0.000005)\n",
    "toc = time.time()\n",
    "print('vectorized loss: %e computed in %fs' % (loss_vectorized, toc - tic))\n",
    "\n",
    "# As we did for the SVM, we use the Frobenius norm to compare the two versions\n",
    "# of the gradient.\n",
    "grad_difference = np.linalg.norm(grad_naive - grad_vectorized, ord='fro')\n",
    "print('Loss difference: %f' % np.abs(loss_naive - loss_vectorized))\n",
    "print('Gradient difference: %f' % grad_difference)"
   ]
  },
  {
   "cell_type": "code",
   "execution_count": 7,
   "metadata": {},
   "outputs": [
    {
     "name": "stdout",
     "output_type": "stream",
     "text": [
      "lr 1.000000e-07 reg 2.500000e+04 train accuracy: 0.320959 val accuracy: 0.342000\n",
      "lr 1.000000e-07 reg 3.000000e+04 train accuracy: 0.329184 val accuracy: 0.340000\n",
      "lr 1.000000e-07 reg 3.500000e+04 train accuracy: 0.321306 val accuracy: 0.337000\n",
      "lr 1.000000e-07 reg 4.000000e+04 train accuracy: 0.314673 val accuracy: 0.337000\n",
      "lr 1.000000e-07 reg 4.500000e+04 train accuracy: 0.305041 val accuracy: 0.324000\n",
      "lr 1.000000e-07 reg 5.000000e+04 train accuracy: 0.302041 val accuracy: 0.316000\n",
      "lr 1.800000e-07 reg 2.500000e+04 train accuracy: 0.327612 val accuracy: 0.356000\n",
      "lr 1.800000e-07 reg 3.000000e+04 train accuracy: 0.330755 val accuracy: 0.343000\n",
      "lr 1.800000e-07 reg 3.500000e+04 train accuracy: 0.312286 val accuracy: 0.333000\n",
      "lr 1.800000e-07 reg 4.000000e+04 train accuracy: 0.315449 val accuracy: 0.326000\n",
      "lr 1.800000e-07 reg 4.500000e+04 train accuracy: 0.307980 val accuracy: 0.327000\n",
      "lr 1.800000e-07 reg 5.000000e+04 train accuracy: 0.305980 val accuracy: 0.321000\n",
      "lr 2.600000e-07 reg 2.500000e+04 train accuracy: 0.322347 val accuracy: 0.345000\n",
      "lr 2.600000e-07 reg 3.000000e+04 train accuracy: 0.320306 val accuracy: 0.341000\n",
      "lr 2.600000e-07 reg 3.500000e+04 train accuracy: 0.319592 val accuracy: 0.338000\n",
      "lr 2.600000e-07 reg 4.000000e+04 train accuracy: 0.313143 val accuracy: 0.332000\n",
      "lr 2.600000e-07 reg 4.500000e+04 train accuracy: 0.312245 val accuracy: 0.332000\n",
      "lr 2.600000e-07 reg 5.000000e+04 train accuracy: 0.312714 val accuracy: 0.328000\n",
      "lr 3.400000e-07 reg 2.500000e+04 train accuracy: 0.321633 val accuracy: 0.341000\n",
      "lr 3.400000e-07 reg 3.000000e+04 train accuracy: 0.326857 val accuracy: 0.330000\n",
      "lr 3.400000e-07 reg 3.500000e+04 train accuracy: 0.300490 val accuracy: 0.313000\n",
      "lr 3.400000e-07 reg 4.000000e+04 train accuracy: 0.308694 val accuracy: 0.327000\n",
      "lr 3.400000e-07 reg 4.500000e+04 train accuracy: 0.312735 val accuracy: 0.321000\n",
      "lr 3.400000e-07 reg 5.000000e+04 train accuracy: 0.294184 val accuracy: 0.314000\n",
      "lr 4.200000e-07 reg 2.500000e+04 train accuracy: 0.330755 val accuracy: 0.336000\n",
      "lr 4.200000e-07 reg 3.000000e+04 train accuracy: 0.324245 val accuracy: 0.335000\n",
      "lr 4.200000e-07 reg 3.500000e+04 train accuracy: 0.319388 val accuracy: 0.331000\n",
      "lr 4.200000e-07 reg 4.000000e+04 train accuracy: 0.316143 val accuracy: 0.329000\n",
      "lr 4.200000e-07 reg 4.500000e+04 train accuracy: 0.310306 val accuracy: 0.320000\n",
      "lr 4.200000e-07 reg 5.000000e+04 train accuracy: 0.302673 val accuracy: 0.319000\n",
      "lr 5.000000e-07 reg 2.500000e+04 train accuracy: 0.329000 val accuracy: 0.335000\n",
      "lr 5.000000e-07 reg 3.000000e+04 train accuracy: 0.315816 val accuracy: 0.322000\n",
      "lr 5.000000e-07 reg 3.500000e+04 train accuracy: 0.312571 val accuracy: 0.330000\n",
      "lr 5.000000e-07 reg 4.000000e+04 train accuracy: 0.304735 val accuracy: 0.322000\n",
      "lr 5.000000e-07 reg 4.500000e+04 train accuracy: 0.311429 val accuracy: 0.324000\n",
      "lr 5.000000e-07 reg 5.000000e+04 train accuracy: 0.313408 val accuracy: 0.322000\n",
      "best validation accuracy achieved during cross-validation: 0.356000\n"
     ]
    }
   ],
   "source": [
    "# Use the validation set to tune hyperparameters (regularization strength and\n",
    "# learning rate). You should experiment with different ranges for the learning\n",
    "# rates and regularization strengths; if you are careful you should be able to\n",
    "# get a classification accuracy of over 0.34 on the validation set.\n",
    "from ie590.classifiers import Softmax\n",
    "results = {}\n",
    "best_val = -1\n",
    "best_softmax = None ## Overwrite this variable with best trained softmax classifier. \n",
    "# Feel free to experiment with some other learning rates\n",
    "learning_rates = [1e-7, 5e-7]\n",
    "# Feel free to experiment with other values of regularization strength\n",
    "regularization_strengths = [2.5e4, 5e4] \n",
    "\n",
    "################################################################################\n",
    "# TODO:                                                                        #\n",
    "# Use the validation set to set the learning rate and regularization strength. #\n",
    "# This should be identical to the validation that you did for the SVM; save    #\n",
    "# the best trained softmax classifer in best_softmax.                          #\n",
    "################################################################################\n",
    "#                          START OF YOUR CODE                                  #\n",
    "################################################################################\n",
    "pass ## Write your code here\n",
    "# define new lr and reg ranges\n",
    "# learning_rates = [0.5e-7, 5.5e-7]\n",
    "# regularization_strengths = [2e4, 5.5e4]\n",
    "for lr in np.linspace(learning_rates[0], learning_rates[1], num = 6):\n",
    "    for reg in np.linspace(regularization_strengths[0], regularization_strengths[1], num = 6):\n",
    "        softmax = Softmax()\n",
    "        softmax.train(X_train, y_train, lr, reg, num_iters=700, verbose=False)\n",
    "        y_train_pred = softmax.predict(X_train)\n",
    "        train_accuracy = np.mean(y_train == y_train_pred)\n",
    "        y_val_pred = softmax.predict(X_val)\n",
    "        val_accuracy = np.mean(y_val == y_val_pred)\n",
    "        \n",
    "        results[(lr, reg)] = (train_accuracy, val_accuracy)\n",
    "        if val_accuracy > best_val:\n",
    "            best_val = val_accuracy\n",
    "            best_softmax = softmax\n",
    "################################################################################\n",
    "#                              END OF YOUR CODE                                #\n",
    "################################################################################\n",
    "    \n",
    "# Print out results.\n",
    "for lr, reg in sorted(results):\n",
    "    train_accuracy, val_accuracy = results[(lr, reg)]\n",
    "    print('lr %e reg %e train accuracy: %f val accuracy: %f' % (\n",
    "                lr, reg, train_accuracy, val_accuracy))\n",
    "    \n",
    "print('best validation accuracy achieved during cross-validation: %f' % best_val)"
   ]
  },
  {
   "cell_type": "code",
   "execution_count": 8,
   "metadata": {},
   "outputs": [
    {
     "name": "stdout",
     "output_type": "stream",
     "text": [
      "softmax on raw pixels final test set accuracy: 0.344000\n"
     ]
    }
   ],
   "source": [
    "# evaluate on test set\n",
    "# Evaluate the best softmax on test set\n",
    "y_test_pred = best_softmax.predict(X_test)\n",
    "test_accuracy = np.mean(y_test == y_test_pred)\n",
    "print('softmax on raw pixels final test set accuracy: %f' % (test_accuracy, ))"
   ]
  },
  {
   "cell_type": "markdown",
   "metadata": {},
   "source": [
    "## Inline Question 3 (True or False):\n",
    "\n",
    "**It's possible to add a new datapoint to a training set that would leave the SVM loss unchanged, but this is not the case with the Softmax classifier loss.**\n",
    "\n",
    "*Your answer*: True\n",
    "\n",
    "*Your explanation*: *For SVM, a new datapoint may lead to a new score that makes $L_i=max(0, S_j-S_{y_i}+1) = 0$, therefore SVM $L_i$ is unchanged. But for Softmax, the predicted score of the new datapoint always contributes to a positive term $e^s$ and the scores of the wrong class cannot be $-\\infty$, so the $e^{s_{y_i}}/\\sum(e^s_j) \\neq 1$, thus a new nonezero Softmax $L_i$ is always added.*"
   ]
  },
  {
   "cell_type": "code",
   "execution_count": 9,
   "metadata": {},
   "outputs": [
    {
     "data": {
      "image/png": "[encoded data removed]",
      "text/plain": [
       "<Figure size 432x288 with 10 Axes>"
      ]
     },
     "metadata": {
      "needs_background": "light"
     },
     "output_type": "display_data"
    }
   ],
   "source": [
    "# Visualize the learned weights for each class\n",
    "w = best_softmax.W[:-1,:] # strip out the bias\n",
    "w = w.reshape(32, 32, 3, 10)\n",
    "\n",
    "w_min, w_max = np.min(w), np.max(w)\n",
    "\n",
    "classes = ['plane', 'car', 'bird', 'cat', 'deer', 'dog', 'frog', 'horse', 'ship', 'truck']\n",
    "for i in range(10):\n",
    "    plt.subplot(2, 5, i + 1)\n",
    "    \n",
    "    # Rescale the weights to be between 0 and 255\n",
    "    wimg = 255.0 * (w[:, :, :, i].squeeze() - w_min) / (w_max - w_min)\n",
    "    plt.imshow(wimg.astype('uint8'))\n",
    "    plt.axis('off')\n",
    "    plt.title(classes[i])"
   ]
  }
 ],
 "metadata": {
  "kernelspec": {
   "display_name": "Python 3",
   "language": "python",
   "name": "python3"
  },
  "language_info": {
   "codemirror_mode": {
    "name": "ipython",
    "version": 3
   },
   "file_extension": ".py",
   "mimetype": "text/x-python",
   "name": "python",
   "nbconvert_exporter": "python",
   "pygments_lexer": "ipython3",
   "version": "3.7.1"
  }
 },
 "nbformat": 4,
 "nbformat_minor": 1
}
